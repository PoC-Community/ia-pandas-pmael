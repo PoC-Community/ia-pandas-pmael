{
 "cells": [
  {
   "cell_type": "markdown",
   "id": "384805b1",
   "metadata": {},
   "source": [
    "<img src=\"./image/data.png\"/>\n",
    "\n",
    "# Introduction #\n",
    "\n",
    "Welcome to this workshop, the objective of this workshop is to analyze data using pandas.\\\n",
    "For this we will use a dataset that represents competitive league of legends games in 2020.\n",
    "\n",
    "Data analysis is closely related to artificial intelligence.\\\n",
    "Indeed, when we want to set up an artificial intelligence model, we usually have raw data,\\\n",
    "to get good results it is important to work on these raw data, in order to obtain meaningful data.\n",
    "\n",
    "In this workshop:\n",
    "   - Data analysis.\n",
    "   - Data processing.\n",
    "   \n",
    "For this we will use the pandas library : [pandas](https://pandas.pydata.org/)"
   ]
  },
  {
   "cell_type": "markdown",
   "id": "688401cc",
   "metadata": {},
   "source": [
    "### Requirements\n",
    "\n",
    "Check that you have pandas installed, if not open your shell and run the command: `pip3 install pandas`\\\n",
    "Make sure you have the `matches2020.csv` file to start the workshop.\n",
    "\n",
    "In this workshop you will analyze a csv file.\\\n",
    "I strongly advise you not to use any loop (for, while ... ect)\\\n",
    "Indeed this workshop is made to be successful without the use of any loop,\\\n",
    "Read the documentation, search on the web, and come to the supervisors if you get stuck on a part for too long."
   ]
  },
  {
   "cell_type": "code",
   "execution_count": 1,
   "id": "f8b97516",
   "metadata": {},
   "outputs": [
    {
     "name": "stdout",
     "output_type": "stream",
     "text": [
      "image\t\t\t matches2020.csv  video_games_data_visualisation.ipynb\r\n",
      "league_of_legends.ipynb  video_games.csv\r\n"
     ]
    }
   ],
   "source": [
    "!ls"
   ]
  },
  {
   "cell_type": "markdown",
   "id": "602e0a6e",
   "metadata": {},
   "source": [
    "### Import\n",
    "\n",
    "To start, it is necessary to import `pandas`, we give it the alias `pd` to be able to use its methods more easily.\\\n",
    "If you don't know what a method is I advise you to start with the workshop : `python basics`"
   ]
  },
  {
   "cell_type": "code",
   "execution_count": 4,
   "id": "5496c943",
   "metadata": {},
   "outputs": [],
   "source": [
    "import pandas as pd"
   ]
  },
  {
   "cell_type": "markdown",
   "id": "8e7065a6",
   "metadata": {},
   "source": [
    "## Read & Verify\n",
    "\n",
    "Here we are at our first task, the difficulty will increase gradually.\n",
    "\n",
    "\n",
    "For now pandas needs to read the csv to be able to use it.\\\n",
    "You have to read the file : `matches2020.csv`\\\n",
    "Since it is the first task, here is the link of the function : [read_csv](https://pandas.pydata.org/pandas-docs/stable/reference/api/pandas.read_csv.html)\\\n",
    "For the next steps, I will let you search in the documentation: [documentation](https://pandas.pydata.org/docs/index.html)"
   ]
  },
  {
   "cell_type": "code",
   "execution_count": 5,
   "id": "28ec7b15",
   "metadata": {},
   "outputs": [],
   "source": [
    "#read the file : matches2020.csv with the function read_csv\n",
    "\n",
    "data = pd.read_csv(\"matches2020.csv\")"
   ]
  },
  {
   "cell_type": "markdown",
   "id": "83ff96c8",
   "metadata": {},
   "source": [
    "Congratulations, you have successfully completed the first task,\n",
    "\n",
    "\n",
    "The second task is to display the dataframe using the [head](https://pandas.pydata.org/docs/reference/api/pandas.DataFrame.head.html) method.\\\n",
    "head will by default display the first 5 lines if you don't set any parameters."
   ]
  },
  {
   "cell_type": "code",
   "execution_count": 6,
   "id": "b8ec62b6",
   "metadata": {},
   "outputs": [
    {
     "name": "stdout",
     "output_type": "stream",
     "text": [
      "   Unnamed: 0                 gameid league        blueteam         redteam  \\\n",
      "0           0  ESPORTSTMNT03/1241318  KeSPA  SANDBOX Gaming              T1   \n",
      "1           1  ESPORTSTMNT03/1241322  KeSPA              T1  SANDBOX Gaming   \n",
      "2           2  ESPORTSTMNT03/1241324  KeSPA              T1  SANDBOX Gaming   \n",
      "3           3  ESPORTSTMNT03/1241328  KeSPA              T1  SANDBOX Gaming   \n",
      "4           4  ESPORTSTMNT03/1241386  KeSPA             DRX  Afreeca Freecs   \n",
      "\n",
      "       bluetop bluejungle      bluemid      blueadc bluesupport    redtop  \\\n",
      "0       Rumble      Elise       Qiyana  MissFortune    Nautilus    Aatrox   \n",
      "1        Jayce   JarvanIV      Orianna  MissFortune    Nautilus    Aatrox   \n",
      "2     Renekton     RekSai  Mordekaiser        Xayah       Rakan    Aatrox   \n",
      "3     Pantheon      Elise     Nautilus        Xayah       Rakan     Quinn   \n",
      "4  Mordekaiser   JarvanIV         Ryze        Xayah       Rakan  Renekton   \n",
      "\n",
      "  redjungle       redmid       redadc redsupport  result  \n",
      "0    Gragas  Mordekaiser        Xayah      Rakan       1  \n",
      "1     Elise       Qiyana        Varus  TahmKench       0  \n",
      "2   Sejuani         Azir  MissFortune   Nautilus       1  \n",
      "3      Olaf      Orianna  MissFortune      Leona       0  \n",
      "4     Elise       Velkoz        Varus      Braum       0  \n"
     ]
    }
   ],
   "source": [
    "# Use the head method\n",
    "print (data.head(5))"
   ]
  },
  {
   "cell_type": "markdown",
   "id": "b9ef744c",
   "metadata": {},
   "source": [
    "**Expected output:** \\\n",
    "<img src=\"./image/head_result.png\"/>"
   ]
  },
  {
   "cell_type": "markdown",
   "id": "e65be67e",
   "metadata": {},
   "source": [
    "### Dataset length\n",
    "\n",
    "We can observe that indeed our dataset contains information about competitive league of legends games in 2020.\\\n",
    "I will describe the different columns :\n",
    "- the **id** of the game,\n",
    "- the **league**, in league of legends the competition is divided in different regional leagues,\\\n",
    "especially the LFL which is the french league and the LEC which is the european league.\n",
    "- the **name** of the blue team,\n",
    "- the **name** of the red team,\n",
    "- in a game of league of legends there are 5 different roles, \\\n",
    "the **top**, the **mid**, the **jungle**, the **adc** and the **support**, to each role corresponds its champion pool.\n",
    "- the result, equal to 1 if the blue team wins otherwise equal to 0\n",
    "\n",
    "You have to return the total number of games of the dataset."
   ]
  },
  {
   "cell_type": "code",
   "execution_count": 67,
   "id": "0ee878fa",
   "metadata": {},
   "outputs": [],
   "source": [
    "#return the number of games\n",
    "\n",
    "def number_of_games(df):\n",
    "    return df.shape[0]"
   ]
  },
  {
   "cell_type": "code",
   "execution_count": 70,
   "id": "57f408f6",
   "metadata": {},
   "outputs": [
    {
     "data": {
      "text/plain": [
       "5612"
      ]
     },
     "execution_count": 70,
     "metadata": {},
     "output_type": "execute_result"
    }
   ],
   "source": [
    "number_of_games(data)"
   ]
  },
  {
   "cell_type": "markdown",
   "id": "4a03dea3",
   "metadata": {},
   "source": [
    "**Expected output :** `5612`\n"
   ]
  },
  {
   "cell_type": "markdown",
   "id": "2e252523",
   "metadata": {},
   "source": [
    "The LFL is the French league, teams like Vitality or LDLC play there. \\\n",
    "you will need to return the number of competitive games in the LFL in 2020.\n",
    "\n",
    "Try to create a variable that retrieves only the games where the League column is equal to `LFL`,\\\n",
    "then apply the same method as before."
   ]
  },
  {
   "cell_type": "code",
   "execution_count": 71,
   "id": "2599646b",
   "metadata": {},
   "outputs": [],
   "source": [
    "#return the number of games in LFL\n",
    "\n",
    "def number_of_games_lfl(df):\n",
    "    rows = data[data['league'] == 'LFL']\n",
    "    return rows.shape[0]"
   ]
  },
  {
   "cell_type": "code",
   "execution_count": 72,
   "id": "5e044081",
   "metadata": {},
   "outputs": [
    {
     "data": {
      "text/plain": [
       "129"
      ]
     },
     "execution_count": 72,
     "metadata": {},
     "output_type": "execute_result"
    }
   ],
   "source": [
    "number_of_games_lfl(data)"
   ]
  },
  {
   "cell_type": "markdown",
   "id": "b15a2a3e",
   "metadata": {},
   "source": [
    "**Expected output :** `129`"
   ]
  },
  {
   "cell_type": "markdown",
   "id": "3eba9b27",
   "metadata": {},
   "source": [
    "### Winrate\n",
    "\n",
    "Bravo, you managed to get the parts of LFL and to count them\n",
    "\n",
    "Let's go to the next level, \\\n",
    "In league of legends, the map has a blue side and a red side,\\\n",
    "the goal of the red team is to destroy the base on the blue side while the blue team must destroy the base on the red side.\\\n",
    "There is a rumor that being on the blue side gives an advantage to the team, check this rumor.\n",
    "\n",
    "try to calculate the winrate of a team when it is on the `red` side.\\\n",
    "Don't forget that when the red team loses, the `result` is 1 and when it wins, the `result` is 0."
   ]
  },
  {
   "cell_type": "code",
   "execution_count": 73,
   "id": "3e1453f6",
   "metadata": {},
   "outputs": [],
   "source": [
    "#Calculate redsite winrate\n",
    "\n",
    "def redside_winrate(df):\n",
    "    return pd.DataFrame(df[df.result == 0]).shape[0] / number_of_games(df)"
   ]
  },
  {
   "cell_type": "code",
   "execution_count": 74,
   "id": "a8bd24ed",
   "metadata": {},
   "outputs": [
    {
     "data": {
      "text/plain": [
       "0.4718460441910192"
      ]
     },
     "execution_count": 74,
     "metadata": {},
     "output_type": "execute_result"
    }
   ],
   "source": [
    "redside_winrate(data)"
   ]
  },
  {
   "cell_type": "markdown",
   "id": "ed43f2af",
   "metadata": {},
   "source": [
    "**Expected output :** `0.4718460441910192`"
   ]
  },
  {
   "cell_type": "markdown",
   "id": "c331fd10",
   "metadata": {},
   "source": [
    "### List without duplicates\n",
    "\n",
    "Well done.\\\n",
    "But one question is on my mind.\\\n",
    "Which teams are in the French League of Legends (LFL)?\\\n",
    "List the LFL teams without duplicates"
   ]
  },
  {
   "cell_type": "code",
   "execution_count": 84,
   "id": "a9ff15bd",
   "metadata": {},
   "outputs": [],
   "source": [
    "#return the list of LFL teams without duplicates\n",
    "\n",
    "def list_equip_lfl(df):\n",
    "    lfl_blue_teams = df[df['league'] == 'LFL']['blueteam'].unique()\n",
    "    lfl_red_teams = df[df['league'] == 'LFL']['redteam'].unique()\n",
    "\n",
    "    lfl_teams = set(list(lfl_blue_teams) + list(lfl_red_teams))\n",
    "    return list(lfl_teams)"
   ]
  },
  {
   "cell_type": "code",
   "execution_count": 85,
   "id": "58bdc608",
   "metadata": {},
   "outputs": [
    {
     "data": {
      "text/plain": [
       "['GamersOrigin',\n",
       " 'GameWard',\n",
       " 'IZI Dream',\n",
       " 'Vitality.Bee',\n",
       " 'Team MCES',\n",
       " 'Solary',\n",
       " 'LDLC OL',\n",
       " 'Misfits Premier']"
      ]
     },
     "execution_count": 85,
     "metadata": {},
     "output_type": "execute_result"
    }
   ],
   "source": [
    "list_equip_lfl(data)"
   ]
  },
  {
   "cell_type": "markdown",
   "id": "9903527a",
   "metadata": {},
   "source": [
    "**Expected output :** ```array(['Misfits Premier', 'GameWard', 'Solary', 'Vitality.Bee', 'GamersOrigin', 'LDLC OL', 'Team MCES', 'IZI Dream'], dtype=object)```"
   ]
  },
  {
   "cell_type": "markdown",
   "id": "451648c4",
   "metadata": {},
   "source": [
    "### Recurrent value\n",
    "\n",
    "Well done, it looks like there were 8 teams in the LFL in 2020.\n",
    "\n",
    "League of Legends is a game where the meta changes regularly,\\\n",
    "every year some champions dominate the game,\\\n",
    "The few games I played, I played the mid role.\\\n",
    "Which champion has been playing the most in mid. \\\n",
    "What is the value that appears the most in the columns: `bluemid` and `redmid` ?"
   ]
  },
  {
   "cell_type": "code",
   "execution_count": 91,
   "id": "322fcca9",
   "metadata": {},
   "outputs": [],
   "source": [
    "#return the name of the champion who is the most played in midlane\n",
    "\n",
    "def top_pick_mid(df):\n",
    "    mid_champions = pd.concat([df['bluemid'], df['redmid']])\n",
    "    most_played_champion = mid_champions.value_counts().idxmax()\n",
    "    return most_played_champion"
   ]
  },
  {
   "cell_type": "code",
   "execution_count": 92,
   "id": "203583fb",
   "metadata": {},
   "outputs": [
    {
     "data": {
      "text/plain": [
       "'Zoe'"
      ]
     },
     "execution_count": 92,
     "metadata": {},
     "output_type": "execute_result"
    }
   ],
   "source": [
    "top_pick_mid(data)"
   ]
  },
  {
   "cell_type": "markdown",
   "id": "47c9f209",
   "metadata": {},
   "source": [
    "**Expected output :** `'Zoe'`"
   ]
  },
  {
   "cell_type": "markdown",
   "id": "1f4d103b",
   "metadata": {},
   "source": [
    "Ah Zoé,\\\n",
    "The famous bubbles that, when they touch you, make you wake up at your fountain.\n",
    "\n",
    "More seriously, Zoé seems to have been extremely played in the mid.\\\n",
    "But all roles taken together,which are the 5 champions who have been the most played.\n",
    "\n",
    "To do this look at the 5 roles of both teams to see which value appears the most : \\\n",
    "`bluetop`, `bluejungle`, `bluemid`, `blueadc`, `bluesupport`, `redtop`, `redjungle`, `redmid`, `redadc`, `redsupport`.\n",
    "\n",
    "Good luck!"
   ]
  },
  {
   "cell_type": "code",
   "execution_count": 94,
   "id": "86632693",
   "metadata": {},
   "outputs": [],
   "source": [
    "#return the five most played champions (top, mid, jungle, adc, support)\n",
    "\n",
    "def ranking_all_pick(df):\n",
    "    roles = ['bluetop', 'bluejungle', 'bluemid', 'blueadc', 'bluesupport',\n",
    "             'redtop', 'redjungle', 'redmid', 'redadc', 'redsupport']\n",
    "    all_roles = pd.concat([df[role] for role in roles])\n",
    "    top_5_champions = all_roles.value_counts().head(5)\n",
    "    return top_5_champions"
   ]
  },
  {
   "cell_type": "code",
   "execution_count": 95,
   "id": "66a21821",
   "metadata": {},
   "outputs": [
    {
     "data": {
      "text/plain": [
       "Aphelios    2147\n",
       "Nautilus    2084\n",
       "Sett        1816\n",
       "Thresh      1730\n",
       "Ornn        1700\n",
       "Name: count, dtype: int64"
      ]
     },
     "execution_count": 95,
     "metadata": {},
     "output_type": "execute_result"
    }
   ],
   "source": [
    "ranking_all_pick(data).head()"
   ]
  },
  {
   "cell_type": "markdown",
   "id": "897641ac",
   "metadata": {},
   "source": [
    "**Expected output :** \n",
    "\n",
    "`Aphelios    2147\n",
    " Nautilus    2084\n",
    " Sett        1816\n",
    " Thresh      1730\n",
    " Ornn        1700\n",
    " dtype: int64`"
   ]
  },
  {
   "cell_type": "markdown",
   "id": "7e723972",
   "metadata": {},
   "source": [
    "### Winrate in LEC\n",
    "\n",
    "Zoë is finally not even in the top 5 most played champions, maybe she was ban most of the time.\\\n",
    "Aphelios seems to have dominated the summoner's rift.\n",
    "\n",
    "The LEC is the European league one rank above the LFL, the dream of every European player. \\\n",
    "I wonder which team was able to dominate this league.\\\n",
    "List the different teams in the LEC league and their number of wins."
   ]
  },
  {
   "cell_type": "code",
   "execution_count": 117,
   "id": "19dda682",
   "metadata": {},
   "outputs": [],
   "source": [
    "#return the number of wins for each team in the LEC league\n",
    "\n",
    "def display_wins_per_teams(df):\n",
    "    lec_teams = df[df['league'] == 'LEC']\n",
    "    wins_blue = lec_teams.groupby('blueteam')['result'].apply(lambda x: (x == 0).sum()).fillna(0).astype(int)\n",
    "    wins_red = lec_teams.groupby('redteam')['result'].apply(lambda x: (x == 1).sum()).fillna(0).astype(int)\n",
    "\n",
    "    total_wins = wins_blue.add(wins_red, fill_value=0).sort_values(ascending=False)\n",
    "    return total_wins"
   ]
  },
  {
   "cell_type": "code",
   "execution_count": 118,
   "id": "6ebe6022",
   "metadata": {},
   "outputs": [
    {
     "data": {
      "text/plain": [
       "blueteam\n",
       "MAD Lions                28\n",
       "Team Vitality            27\n",
       "SK Gaming                26\n",
       "FC Schalke 04 Esports    25\n",
       "Origen                   24\n",
       "Rogue                    24\n",
       "Fnatic                   23\n",
       "Misfits Gaming           22\n",
       "Excel Esports            21\n",
       "G2 Esports               21\n",
       "Name: result, dtype: int64"
      ]
     },
     "execution_count": 118,
     "metadata": {},
     "output_type": "execute_result"
    }
   ],
   "source": [
    "display_wins_per_teams(data)"
   ]
  },
  {
   "cell_type": "markdown",
   "id": "abd0406e",
   "metadata": {},
   "source": [
    "**Expected output :**\n",
    "\n",
    "`G2 Esports               48\n",
    " Fnatic                   34\n",
    " MAD Lions                31\n",
    " Rogue                    31\n",
    " Origen                   24\n",
    " FC Schalke 04 Esports    18\n",
    " Misfits Gaming           18\n",
    " Excel Esports            15\n",
    " SK Gaming                13\n",
    " Team Vitality             9\n",
    " dtype: int64`"
   ]
  },
  {
   "cell_type": "markdown",
   "id": "107140ef",
   "metadata": {},
   "source": [
    "### Counter\n",
    "\n",
    "What a team: G2!\n",
    "\n",
    "Aphelios was the most played champion in competition in 2020,\\\n",
    "in my research I noticed that Ezreal was the champion who was the most pick against Aphelios.\\\n",
    "Was this a good decision ?\n",
    "\n",
    "Calculate the winrate of Aphelios against Ezreal,\\\n",
    "Aphelios and Ezreal are champions that are usually played in the role of adc. \\\n",
    "Just use the `blueadc` and `redadc` columns and ```result``` for this exercise."
   ]
  },
  {
   "cell_type": "code",
   "execution_count": 124,
   "id": "0cca2db3",
   "metadata": {},
   "outputs": [],
   "source": [
    "def aphelios_vs_ezreal(df):\n",
    "    aphelios_wins = df[(df['blueadc'] == 'Aphelios') & (df['redadc'] == 'Ezreal') & (df['result'] == 0)]\n",
    "    ezreal_wins = df[(df['blueadc'] == 'Ezreal') & (df['redadc'] == 'Aphelios') & (df['result'] == 1)]\n",
    "    total_games = len(aphelios_wins) + len(ezreal_wins)\n",
    "    winrate = len(aphelios_wins) / total_games if total_games > 0 else 0\n",
    "    return winrate"
   ]
  },
  {
   "cell_type": "code",
   "execution_count": 125,
   "id": "4a2c2086",
   "metadata": {},
   "outputs": [
    {
     "data": {
      "text/plain": [
       "0.5081967213114754"
      ]
     },
     "execution_count": 125,
     "metadata": {},
     "output_type": "execute_result"
    }
   ],
   "source": [
    "aphelios_vs_ezreal(data)"
   ]
  },
  {
   "cell_type": "markdown",
   "id": "856bcff6",
   "metadata": {},
   "source": [
    "**Expected output :** `0.528046421663443`"
   ]
  },
  {
   "cell_type": "markdown",
   "id": "7d57eea4",
   "metadata": {},
   "source": [
    "You have answered all my questions, well done.\\\n",
    "Now you are free to do your analysis.\n",
    "\n",
    "Why don't you try to see with which support Aphelios has the best winrate for example?"
   ]
  },
  {
   "cell_type": "code",
   "execution_count": 132,
   "id": "f22450a5",
   "metadata": {},
   "outputs": [
    {
     "data": {
      "text/plain": [
       "{'Zyra': 0,\n",
       " 'Blitzcrank': 0.4727272727272727,\n",
       " 'TahmKench': 0.5,\n",
       " 'Nami': 1.0,\n",
       " 'Karma': 0.52,\n",
       " 'Volibear': 0.0,\n",
       " 'Taric': 0.6037735849056604,\n",
       " 'MonkeyKing': 0,\n",
       " 'Nautilus': 0.4726166328600406,\n",
       " 'Maokai': 1.0,\n",
       " 'Lulu': 0.4925373134328358,\n",
       " 'Leona': 0.4782608695652174,\n",
       " 'Bard': 0.33653846153846156,\n",
       " 'Yuumi': 0.5789473684210527,\n",
       " 'Sett': 0.5714285714285714,\n",
       " 'Rumble': 1.0,\n",
       " 'Sion': 0,\n",
       " 'Leblanc': 0,\n",
       " 'Orianna': 0,\n",
       " 'Senna': 0.6666666666666666,\n",
       " 'Sona': 1.0,\n",
       " 'Braum': 0.42592592592592593,\n",
       " 'Morgana': 0.5,\n",
       " 'Alistar': 0.4666666666666667,\n",
       " 'Rakan': 0.37254901960784315,\n",
       " 'Gragas': 0.0,\n",
       " 'Jayce': 0,\n",
       " 'Galio': 0.5384615384615384,\n",
       " 'Kayle': 0,\n",
       " 'Sejuani': 0,\n",
       " 'Lux': 0.0,\n",
       " 'Ashe': 0,\n",
       " 'Brand': 0,\n",
       " 'Jax': 0,\n",
       " 'Poppy': 1.0,\n",
       " 'Pyke': 0.5,\n",
       " 'Thresh': 0.43097014925373134,\n",
       " 'Kennen': 0,\n",
       " 'Soraka': 0.5,\n",
       " 'Trundle': 1.0,\n",
       " 'Zac': 0,\n",
       " 'Ornn': 0,\n",
       " 'Pantheon': 0.4,\n",
       " 'Shen': 0.2857142857142857,\n",
       " 'Renekton': 0,\n",
       " 'Zilean': 1.0,\n",
       " 'Janna': 0.6666666666666666,\n",
       " 'Fiddlesticks': 0.0}"
      ]
     },
     "execution_count": 132,
     "metadata": {},
     "output_type": "execute_result"
    }
   ],
   "source": [
    "def name_this_function(df):\n",
    "    aphelios_data = df[(df['blueadc'] == 'Aphelios') | (df['redadc'] == 'Aphelios')]\n",
    "    \n",
    "    support_champions = set(aphelios_data['bluesupport'].unique()).union(set(aphelios_data['redsupport'].unique()))\n",
    "    \n",
    "    winrates = {}\n",
    "    \n",
    "    for support in support_champions:\n",
    "        aphelios_with_support_blue = aphelios_data[(aphelios_data['bluesupport'] == support) & (aphelios_data['blueadc'] == 'Aphelios')]\n",
    "        aphelios_with_support_red = aphelios_data[(aphelios_data['redsupport'] == support) & (aphelios_data['redadc'] == 'Aphelios')]\n",
    "\n",
    "        total_games = len(aphelios_with_support_blue) + len(aphelios_with_support_red)\n",
    "        total_wins = (aphelios_with_support_blue['result'] == 0).sum() + (aphelios_with_support_red['result'] == 1).sum()\n",
    "\n",
    "        winrate = total_wins / total_games if total_games > 0 else 0\n",
    "        winrates[support] = winrate\n",
    "\n",
    "    return winrates\n",
    "\n",
    "name_this_function(data)"
   ]
  },
  {
   "cell_type": "markdown",
   "id": "0ec43f54",
   "metadata": {},
   "source": [
    "## Well played\n",
    "\n",
    "You were able to see the basic operation of pandas.\\\n",
    "You now understand one of the basics of data science.\n",
    "\n",
    "Fortunately I thought about the brave people who would arrive there, a second topic is waiting for you on a dataset detailing the sale of video games in the world.\n",
    "\n",
    "<img src=\"./image/win.png\"/>"
   ]
  }
 ],
 "metadata": {
  "kernelspec": {
   "display_name": "Python 3 (ipykernel)",
   "language": "python",
   "name": "python3"
  },
  "language_info": {
   "codemirror_mode": {
    "name": "ipython",
    "version": 3
   },
   "file_extension": ".py",
   "mimetype": "text/x-python",
   "name": "python",
   "nbconvert_exporter": "python",
   "pygments_lexer": "ipython3",
   "version": "3.10.11"
  }
 },
 "nbformat": 4,
 "nbformat_minor": 5
}
